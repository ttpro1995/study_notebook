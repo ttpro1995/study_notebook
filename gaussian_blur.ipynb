{
 "cells": [
  {
   "cell_type": "code",
   "execution_count": 2,
   "metadata": {},
   "outputs": [],
   "source": [
    "import numpy as np\n",
    "import scipy\n",
    "import scipy.ndimage.filters"
   ]
  },
  {
   "cell_type": "code",
   "execution_count": 4,
   "metadata": {},
   "outputs": [
    {
     "data": {
      "text/plain": [
       "\u001b[0;31mSignature:\u001b[0m\n",
       "\u001b[0mscipy\u001b[0m\u001b[0;34m.\u001b[0m\u001b[0mndimage\u001b[0m\u001b[0;34m.\u001b[0m\u001b[0mfilters\u001b[0m\u001b[0;34m.\u001b[0m\u001b[0mgaussian_filter\u001b[0m\u001b[0;34m(\u001b[0m\u001b[0;34m\u001b[0m\n",
       "\u001b[0;34m\u001b[0m    \u001b[0minput\u001b[0m\u001b[0;34m,\u001b[0m\u001b[0;34m\u001b[0m\n",
       "\u001b[0;34m\u001b[0m    \u001b[0msigma\u001b[0m\u001b[0;34m,\u001b[0m\u001b[0;34m\u001b[0m\n",
       "\u001b[0;34m\u001b[0m    \u001b[0morder\u001b[0m\u001b[0;34m=\u001b[0m\u001b[0;36m0\u001b[0m\u001b[0;34m,\u001b[0m\u001b[0;34m\u001b[0m\n",
       "\u001b[0;34m\u001b[0m    \u001b[0moutput\u001b[0m\u001b[0;34m=\u001b[0m\u001b[0;32mNone\u001b[0m\u001b[0;34m,\u001b[0m\u001b[0;34m\u001b[0m\n",
       "\u001b[0;34m\u001b[0m    \u001b[0mmode\u001b[0m\u001b[0;34m=\u001b[0m\u001b[0;34m'reflect'\u001b[0m\u001b[0;34m,\u001b[0m\u001b[0;34m\u001b[0m\n",
       "\u001b[0;34m\u001b[0m    \u001b[0mcval\u001b[0m\u001b[0;34m=\u001b[0m\u001b[0;36m0.0\u001b[0m\u001b[0;34m,\u001b[0m\u001b[0;34m\u001b[0m\n",
       "\u001b[0;34m\u001b[0m    \u001b[0mtruncate\u001b[0m\u001b[0;34m=\u001b[0m\u001b[0;36m4.0\u001b[0m\u001b[0;34m,\u001b[0m\u001b[0;34m\u001b[0m\n",
       "\u001b[0;34m\u001b[0m\u001b[0;34m)\u001b[0m\u001b[0;34m\u001b[0m\u001b[0;34m\u001b[0m\u001b[0m\n",
       "\u001b[0;31mDocstring:\u001b[0m\n",
       "Multidimensional Gaussian filter.\n",
       "\n",
       "Parameters\n",
       "----------\n",
       "input : array_like\n",
       "    The input array.\n",
       "sigma : scalar or sequence of scalars\n",
       "    Standard deviation for Gaussian kernel. The standard\n",
       "    deviations of the Gaussian filter are given for each axis as a\n",
       "    sequence, or as a single number, in which case it is equal for\n",
       "    all axes.\n",
       "order : int or sequence of ints, optional\n",
       "    The order of the filter along each axis is given as a sequence\n",
       "    of integers, or as a single number.  An order of 0 corresponds\n",
       "    to convolution with a Gaussian kernel. A positive order\n",
       "    corresponds to convolution with that derivative of a Gaussian.\n",
       "output : array or dtype, optional\n",
       "    The array in which to place the output, or the dtype of the\n",
       "    returned array. By default an array of the same dtype as input\n",
       "    will be created.\n",
       "mode : str or sequence, optional\n",
       "    The `mode` parameter determines how the input array is extended\n",
       "    when the filter overlaps a border. By passing a sequence of modes\n",
       "    with length equal to the number of dimensions of the input array,\n",
       "    different modes can be specified along each axis. Default value is\n",
       "    'reflect'. The valid values and their behavior is as follows:\n",
       "\n",
       "    'reflect' (`d c b a | a b c d | d c b a`)\n",
       "        The input is extended by reflecting about the edge of the last\n",
       "        pixel.\n",
       "\n",
       "    'constant' (`k k k k | a b c d | k k k k`)\n",
       "        The input is extended by filling all values beyond the edge with\n",
       "        the same constant value, defined by the `cval` parameter.\n",
       "\n",
       "    'nearest' (`a a a a | a b c d | d d d d`)\n",
       "        The input is extended by replicating the last pixel.\n",
       "\n",
       "    'mirror' (`d c b | a b c d | c b a`)\n",
       "        The input is extended by reflecting about the center of the last\n",
       "        pixel.\n",
       "\n",
       "    'wrap' (`a b c d | a b c d | a b c d`)\n",
       "        The input is extended by wrapping around to the opposite edge.\n",
       "cval : scalar, optional\n",
       "    Value to fill past edges of input if `mode` is 'constant'. Default\n",
       "    is 0.0.\n",
       "truncate : float\n",
       "    Truncate the filter at this many standard deviations.\n",
       "    Default is 4.0.\n",
       "\n",
       "Returns\n",
       "-------\n",
       "gaussian_filter : ndarray\n",
       "    Returned array of same shape as `input`.\n",
       "\n",
       "Notes\n",
       "-----\n",
       "The multidimensional filter is implemented as a sequence of\n",
       "one-dimensional convolution filters. The intermediate arrays are\n",
       "stored in the same data type as the output. Therefore, for output\n",
       "types with a limited precision, the results may be imprecise\n",
       "because intermediate results may be stored with insufficient\n",
       "precision.\n",
       "\n",
       "Examples\n",
       "--------\n",
       ">>> from scipy.ndimage import gaussian_filter\n",
       ">>> a = np.arange(50, step=2).reshape((5,5))\n",
       ">>> a\n",
       "array([[ 0,  2,  4,  6,  8],\n",
       "       [10, 12, 14, 16, 18],\n",
       "       [20, 22, 24, 26, 28],\n",
       "       [30, 32, 34, 36, 38],\n",
       "       [40, 42, 44, 46, 48]])\n",
       ">>> gaussian_filter(a, sigma=1)\n",
       "array([[ 4,  6,  8,  9, 11],\n",
       "       [10, 12, 14, 15, 17],\n",
       "       [20, 22, 24, 25, 27],\n",
       "       [29, 31, 33, 34, 36],\n",
       "       [35, 37, 39, 40, 42]])\n",
       "\n",
       ">>> from scipy import misc\n",
       ">>> import matplotlib.pyplot as plt\n",
       ">>> fig = plt.figure()\n",
       ">>> plt.gray()  # show the filtered result in grayscale\n",
       ">>> ax1 = fig.add_subplot(121)  # left side\n",
       ">>> ax2 = fig.add_subplot(122)  # right side\n",
       ">>> ascent = misc.ascent()\n",
       ">>> result = gaussian_filter(ascent, sigma=5)\n",
       ">>> ax1.imshow(ascent)\n",
       ">>> ax2.imshow(result)\n",
       ">>> plt.show()\n",
       "\u001b[0;31mFile:\u001b[0m      ~/miniconda3/envs/ml/lib/python3.6/site-packages/scipy/ndimage/filters.py\n",
       "\u001b[0;31mType:\u001b[0m      function\n"
      ]
     },
     "metadata": {},
     "output_type": "display_data"
    }
   ],
   "source": [
    "?scipy.ndimage.filters.gaussian_filter"
   ]
  },
  {
   "cell_type": "code",
   "execution_count": 27,
   "metadata": {},
   "outputs": [],
   "source": [
    "matrix = np.zeros((91, 91))"
   ]
  },
  {
   "cell_type": "code",
   "execution_count": 28,
   "metadata": {},
   "outputs": [],
   "source": [
    "matrix[45, 45] = 1"
   ]
  },
  {
   "cell_type": "code",
   "execution_count": 29,
   "metadata": {},
   "outputs": [],
   "source": [
    "matrix_blur = scipy.ndimage.filters.gaussian_filter(matrix, 15)"
   ]
  },
  {
   "cell_type": "code",
   "execution_count": null,
   "metadata": {},
   "outputs": [],
   "source": [
    "# https://stackoverflow.com/questions/27350226/how-to-make-the-text-size-of-the-x-and-y-axis-labels-and-the-title-on-matplotlib"
   ]
  },
  {
   "cell_type": "code",
   "execution_count": 39,
   "metadata": {},
   "outputs": [
    {
     "data": {
      "image/png": "[encoded data removed]",
      "text/plain": [
       "<Figure size 720x720 with 1 Axes>"
      ]
     },
     "metadata": {
      "needs_background": "light"
     },
     "output_type": "display_data"
    }
   ],
   "source": [
    "import matplotlib.pyplot as plt\n",
    "import numpy as np\n",
    "plt.figure(figsize=(10, 10))\n",
    "plt.xticks([0, 15, 30, 45, 60, 75, 90], size=20)\n",
    "plt.yticks([0, 15,30,45,60, 75, 90], size=20)\n",
    "plt.imshow(matrix_blur, cmap='jet', interpolation='nearest')\n",
    "plt.savefig(\"gaussian_blur.png\", dpi=300)\n",
    "plt.show()"
   ]
  },
  {
   "cell_type": "code",
   "execution_count": 49,
   "metadata": {},
   "outputs": [
    {
     "data": {
      "image/png": "[encoded data removed]",
      "text/plain": [
       "<Figure size 720x720 with 1 Axes>"
      ]
     },
     "metadata": {
      "needs_background": "light"
     },
     "output_type": "display_data"
    }
   ],
   "source": [
    "import matplotlib.pyplot as plt\n",
    "import numpy as np\n",
    "plt.figure(figsize=(10, 10))\n",
    "labels = [r\"-$3\\sigma$\", r\"-$2\\sigma$\", r\"-$1\\sigma$\", r\"0\", r\"$1\\sigma$\", r\"$2\\sigma$\", r\"$3\\sigma$\"]\n",
    "plt.xticks([0, 15, 30, 45, 60, 75, 90], labels, size=20)\n",
    "plt.yticks([0, 15, 30, 45, 60, 75, 90], reversed(labels), size=20)\n",
    "plt.imshow(matrix_blur, cmap='jet', interpolation='nearest')\n",
    "plt.savefig(\"gaussian_blur_sigma.png\", dpi=300)\n",
    "plt.show()"
   ]
  },
  {
   "cell_type": "markdown",
   "metadata": {},
   "source": [
    "# Multiple blur "
   ]
  },
  {
   "cell_type": "code",
   "execution_count": 11,
   "metadata": {},
   "outputs": [],
   "source": [
    "m1 = np.zeros((181, 181))\n",
    "m1[30, 30] = 1"
   ]
  },
  {
   "cell_type": "code",
   "execution_count": 14,
   "metadata": {},
   "outputs": [
    {
     "ename": "TypeError",
     "evalue": "scatter() missing 1 required positional argument: 'y'",
     "output_type": "error",
     "traceback": [
      "\u001b[0;31m---------------------------------------------------------------------------\u001b[0m",
      "\u001b[0;31mTypeError\u001b[0m                                 Traceback (most recent call last)",
      "\u001b[0;32m<ipython-input-14-3578fc628e34>\u001b[0m in \u001b[0;36m<module>\u001b[0;34m\u001b[0m\n\u001b[1;32m      2\u001b[0m \u001b[0;32mimport\u001b[0m \u001b[0mnumpy\u001b[0m \u001b[0;32mas\u001b[0m \u001b[0mnp\u001b[0m\u001b[0;34m\u001b[0m\u001b[0;34m\u001b[0m\u001b[0m\n\u001b[1;32m      3\u001b[0m \u001b[0mplt\u001b[0m\u001b[0;34m.\u001b[0m\u001b[0mfigure\u001b[0m\u001b[0;34m(\u001b[0m\u001b[0mfigsize\u001b[0m\u001b[0;34m=\u001b[0m\u001b[0;34m(\u001b[0m\u001b[0;36m10\u001b[0m\u001b[0;34m,\u001b[0m \u001b[0;36m10\u001b[0m\u001b[0;34m)\u001b[0m\u001b[0;34m)\u001b[0m\u001b[0;34m\u001b[0m\u001b[0;34m\u001b[0m\u001b[0m\n\u001b[0;32m----> 4\u001b[0;31m \u001b[0mplt\u001b[0m\u001b[0;34m.\u001b[0m\u001b[0mscatter\u001b[0m\u001b[0;34m(\u001b[0m\u001b[0mm1\u001b[0m\u001b[0;34m)\u001b[0m\u001b[0;34m\u001b[0m\u001b[0;34m\u001b[0m\u001b[0m\n\u001b[0m\u001b[1;32m      5\u001b[0m \u001b[0;31m# plt.xticks([0, 15, 30, 45, 60, 75, 90], size=20)\u001b[0m\u001b[0;34m\u001b[0m\u001b[0;34m\u001b[0m\u001b[0;34m\u001b[0m\u001b[0m\n\u001b[1;32m      6\u001b[0m \u001b[0mplt\u001b[0m\u001b[0;34m.\u001b[0m\u001b[0mimshow\u001b[0m\u001b[0;34m(\u001b[0m\u001b[0mm1\u001b[0m\u001b[0;34m,\u001b[0m \u001b[0mcmap\u001b[0m\u001b[0;34m=\u001b[0m\u001b[0;34m'jet'\u001b[0m\u001b[0;34m,\u001b[0m \u001b[0minterpolation\u001b[0m\u001b[0;34m=\u001b[0m\u001b[0;34m'nearest'\u001b[0m\u001b[0;34m)\u001b[0m\u001b[0;34m\u001b[0m\u001b[0;34m\u001b[0m\u001b[0m\n",
      "\u001b[0;31mTypeError\u001b[0m: scatter() missing 1 required positional argument: 'y'"
     ]
    },
    {
     "data": {
      "text/plain": [
       "<Figure size 720x720 with 0 Axes>"
      ]
     },
     "metadata": {},
     "output_type": "display_data"
    }
   ],
   "source": [
    "import matplotlib.pyplot as plt\n",
    "import numpy as np\n",
    "plt.figure(figsize=(10, 10))\n",
    "plt.scatter(m1)\n",
    "# plt.xticks([0, 15, 30, 45, 60, 75, 90], size=20)\n",
    "plt.imshow(m1, cmap='jet', interpolation='nearest')\n",
    "plt.show()"
   ]
  },
  {
   "cell_type": "code",
   "execution_count": null,
   "metadata": {},
   "outputs": [],
   "source": []
  }
 ],
 "metadata": {
  "kernelspec": {
   "display_name": "Python 3",
   "language": "python",
   "name": "python3"
  },
  "language_info": {
   "codemirror_mode": {
    "name": "ipython",
    "version": 3
   },
   "file_extension": ".py",
   "mimetype": "text/x-python",
   "name": "python",
   "nbconvert_exporter": "python",
   "pygments_lexer": "ipython3",
   "version": "3.6.10"
  }
 },
 "nbformat": 4,
 "nbformat_minor": 4
}
